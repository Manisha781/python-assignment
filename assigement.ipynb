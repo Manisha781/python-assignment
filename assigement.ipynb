{
  "nbformat": 4,
  "nbformat_minor": 0,
  "metadata": {
    "colab": {
      "provenance": []
    },
    "kernelspec": {
      "name": "python3",
      "display_name": "Python 3"
    },
    "language_info": {
      "name": "python"
    }
  },
  "cells": [
    {
      "cell_type": "code",
      "execution_count": null,
      "metadata": {
        "id": "MG4cae1739Lf",
        "colab": {
          "base_uri": "https://localhost:8080/"
        },
        "outputId": "c85c3589-e265-4219-b5ac-87e504362562"
      },
      "outputs": [
        {
          "output_type": "stream",
          "name": "stdout",
          "text": [
            "Enter temperature of City A (°C): 78\n",
            "Enter temperature of City B (°C): 45\n",
            "City A is hotter than City B.\n"
          ]
        }
      ],
      "source": [
        "# QUESTION 1\n",
        "\n",
        "city_a_temp = float(input(\"Enter temperature of City A (°C): \"))\n",
        "city_b_temp = float(input(\"Enter temperature of City B (°C): \"))\n",
        "\n",
        "if city_a_temp > city_b_temp:\n",
        "    print(\"City A is hotter than City B.\")\n",
        "\n",
        "\n",
        "elif city_a_temp < city_b_temp:\n",
        "    print(\"City A is cooler than City B.\")\n",
        "\n",
        "elif city_a_temp == city_b_temp:\n",
        "    print(\"Both cities have the same temperature.\")\n",
        "\n",
        "else:\n",
        "    print(\"Invalid input!\")\n"
      ]
    },
    {
      "cell_type": "code",
      "source": [
        "# QUESTION 2\n",
        "total_bill=int(input(\"enter the total bill amount\"))\n",
        "num_of_people=int(input(\"enter the number of people  \"))\n",
        "\n",
        "share= total_bill/num_of_people\n",
        "\n",
        "print(f\"Total Bill: ${total_bill:}\")\n",
        "print(f\"Number of People: {num_of_people}\")\n",
        "print(f\"Each Person Pays: ${share:}\")\n"
      ],
      "metadata": {
        "id": "gA_dBNzg5SBd",
        "colab": {
          "base_uri": "https://localhost:8080/"
        },
        "outputId": "c8507c3c-d497-46a2-ef8e-f00cb83d43e6"
      },
      "execution_count": 92,
      "outputs": [
        {
          "output_type": "stream",
          "name": "stdout",
          "text": [
            "enter the total bill amount500\n",
            "enter the number of people  4\n",
            "Total Bill: $500\n",
            "Number of People: 4\n",
            "Each Person Pays: $125.0\n"
          ]
        }
      ]
    },
    {
      "cell_type": "code",
      "source": [
        "# QUESTION 3\n",
        "name= input(\"enter the name :\")\n",
        "color = input(\"enter the favourite color :\")\n",
        "num = input(\"enter the  favourite number:\")\n",
        "\n",
        "data= f\"your name is {name}! your favurite colour is {color} you favurite number is {num}\"\n",
        "\n",
        "print(data)"
      ],
      "metadata": {
        "colab": {
          "base_uri": "https://localhost:8080/"
        },
        "id": "_4lcDRkV_AUO",
        "outputId": "6785771c-25ca-4c93-b15d-f15cbd3c2516"
      },
      "execution_count": 93,
      "outputs": [
        {
          "output_type": "stream",
          "name": "stdout",
          "text": [
            "enter the name :manisha\n",
            "enter the favourite color :pink\n",
            "enter the  favourite number:4\n",
            "your name is manisha! your favurite colour is pink you favurite number is 4\n"
          ]
        }
      ]
    },
    {
      "cell_type": "code",
      "source": [
        "# QUESTION 4\n",
        "num1=int(input(\"enter the number first:\"))\n",
        "num2=int(input(\"enter the number second:\"))\n",
        "if num1>num2:\n",
        "  print(\"number first is greater than second:\")\n",
        "\n",
        "elif num1<num2:\n",
        "  print(\"number first is less than second:\")\n",
        "\n",
        "else:\n",
        "  print(\"number are equal: \")\n",
        "\n",
        "if num1 % 2 == 0 and num2 % 2 == 0:\n",
        "    print(\"Both numbers are even:\")\n",
        "\n",
        "elif num1 % 2 != 0 and num2 % 2 != 0:\n",
        "    print(\"Both numbers are odd:\")\n",
        "else:\n",
        "    print(\"The numbers are mixed:\")\n"
      ],
      "metadata": {
        "id": "7JEPbu8X5YFx",
        "colab": {
          "base_uri": "https://localhost:8080/"
        },
        "outputId": "b36bbf3b-6d1e-4657-e81d-6c23ab0356d0"
      },
      "execution_count": 94,
      "outputs": [
        {
          "output_type": "stream",
          "name": "stdout",
          "text": [
            "enter the number first:78\n",
            "enter the number second:5\n",
            "number first is greater than second:\n",
            "The numbers are mixed:\n"
          ]
        }
      ]
    },
    {
      "cell_type": "code",
      "source": [
        "# QUESTION 5\n",
        "len =float(input(\"enter the length of rectangle :\"))\n",
        "width = float(input(\"enter the width of rectange :\"))\n",
        "\n",
        "area = len * width\n",
        "peramatter= 2 * (len + width)\n",
        "print(f\"\"\"Length:{len} Width: {width} Area: {area} Pera: {peramatter}\"\"\")"
      ],
      "metadata": {
        "colab": {
          "base_uri": "https://localhost:8080/"
        },
        "id": "yPo3OhMqBmQc",
        "outputId": "c979bfff-ee5d-456d-ace8-96b32042e329"
      },
      "execution_count": 95,
      "outputs": [
        {
          "output_type": "stream",
          "name": "stdout",
          "text": [
            "enter the length of rectangle :89\n",
            "enter the width of rectange :56\n",
            "Length:89.0 Width: 56.0 Area: 4984.0 Pera: 290.0\n"
          ]
        }
      ]
    },
    {
      "cell_type": "code",
      "source": [
        "# QUESTION 6\n",
        "age1=int(input(\"enter the age of person one:\"))\n",
        "age2=int(input(\"enter the age of person two:\"))\n",
        "\n",
        "difference =abs(age1 - age2)\n",
        "\n",
        "print(f\"The age difference between Person 1 and Person 2 is: {difference} years.\")"
      ],
      "metadata": {
        "colab": {
          "base_uri": "https://localhost:8080/"
        },
        "id": "eQ-CSESabJgj",
        "outputId": "a176790f-a689-4e17-9cb6-96f096f4add6"
      },
      "execution_count": 96,
      "outputs": [
        {
          "output_type": "stream",
          "name": "stdout",
          "text": [
            "enter the age of person one:67\n",
            "enter the age of person two:60\n",
            "The age difference between Person 1 and Person 2 is: 7 years.\n"
          ]
        }
      ]
    },
    {
      "cell_type": "code",
      "source": [
        "# QUESTION 7\n",
        "days = int(input(\"Enter the number of days: \"))\n",
        "seconds = days * 24 * 60 * 60\n",
        "print(f\"{days} days are equal to {seconds} seconds.\")"
      ],
      "metadata": {
        "colab": {
          "base_uri": "https://localhost:8080/"
        },
        "id": "wGW7fo1eEXpZ",
        "outputId": "0e14ae58-4d90-4745-8de2-9fe1227423b9"
      },
      "execution_count": 97,
      "outputs": [
        {
          "output_type": "stream",
          "name": "stdout",
          "text": [
            "Enter the number of days: 67\n",
            "67 days are equal to 5788800 seconds.\n"
          ]
        }
      ]
    },
    {
      "cell_type": "code",
      "source": [
        "# QUESTION 8\n",
        "num1 = int(input(\"Enter the first number: \"))\n",
        "num2 = int(input(\"Enter the second number: \"))\n",
        "operator = input(\"Enter the operator (+, -, *, /): \")\n",
        "\n",
        "if operator == '+':\n",
        "    result = num1 + num2\n",
        "\n",
        "\n",
        "elif operator == '-':\n",
        "    result = num1 - num2\n",
        "\n",
        "elif operator == '*':\n",
        "    result = num1 * num2\n",
        "\n",
        "elif operator == '/':\n",
        "    if num2 != 0:\n",
        "        result = num1 / num2\n",
        "\n",
        "    else:\n",
        "        result = \"Error! Division by zero is not allowed.\"\n",
        "\n",
        "\n",
        "print(f\"{num1} {operator} {num2} = {result}\")\n"
      ],
      "metadata": {
        "colab": {
          "base_uri": "https://localhost:8080/"
        },
        "id": "vsDF8j2KOPeB",
        "outputId": "5e3b2642-ad49-465c-e746-7a96c80f5cfe"
      },
      "execution_count": 101,
      "outputs": [
        {
          "output_type": "stream",
          "name": "stdout",
          "text": [
            "Enter the first number: 8\n",
            "Enter the second number: 8\n",
            "Enter the operator (+, -, *, /): +\n",
            "8 + 8 = 16\n"
          ]
        }
      ]
    }
  ]
}