{
  "nbformat": 4,
  "nbformat_minor": 0,
  "metadata": {
    "colab": {
      "provenance": []
    },
    "kernelspec": {
      "name": "python3",
      "display_name": "Python 3"
    },
    "language_info": {
      "name": "python"
    }
  },
  "cells": [
    {
      "cell_type": "code",
      "execution_count": 3,
      "metadata": {
        "colab": {
          "base_uri": "https://localhost:8080/"
        },
        "id": "J2azm4vHOeFn",
        "outputId": "11e7f54a-df3a-40c2-dd52-fad8957d2b1f"
      },
      "outputs": [
        {
          "output_type": "stream",
          "name": "stdout",
          "text": [
            "Enter the start num: 6\n",
            "Enter the end num: 7\n",
            "The sum of even numbers between 6 and 7 is 6.\n"
          ]
        }
      ],
      "source": [
        "# QUESTION 9\n",
        "start = int(input(\"Enter the start num: \"))\n",
        "end = int(input(\"Enter the end num: \"))\n",
        "\n",
        "even_sum = 0\n",
        "\n",
        "for num in range(start, end + 1):\n",
        "    if num % 2 == 0:\n",
        "        even_sum += num\n",
        "\n",
        "print(f\"The sum of even numbers between {start} and {end} is {even_sum}.\")"
      ]
    },
    {
      "cell_type": "code",
      "source": [
        "# QUESTION 10\n",
        "number=int(input(\"enter the number:\"))\n",
        "range=int(input(\"enter the range:\"))\n",
        "\n",
        "multi=number*range\n",
        "\n",
        "print(f\"the multiplication is:{multi}\")"
      ],
      "metadata": {
        "colab": {
          "base_uri": "https://localhost:8080/"
        },
        "id": "VMS2xAN7O2W6",
        "outputId": "ce5f9eb2-a3f6-40a6-eb6c-298dad43cf1f"
      },
      "execution_count": 4,
      "outputs": [
        {
          "output_type": "stream",
          "name": "stdout",
          "text": [
            "enter the number:7\n",
            "enter the range:7\n",
            "the multiplication is:49\n"
          ]
        }
      ]
    },
    {
      "cell_type": "code",
      "source": [
        "# QUESTION 11\n",
        "num = input(\"Enter a positive integer: \")\n",
        "count = 0\n",
        "for digit in num:\n",
        "    count += 1\n",
        "print(f\"the number is  {num} has {count}  digit\");\n"
      ],
      "metadata": {
        "colab": {
          "base_uri": "https://localhost:8080/"
        },
        "id": "OCOwhyFmPAte",
        "outputId": "5b5603e8-8499-41ec-fd44-063402d4ee49"
      },
      "execution_count": 5,
      "outputs": [
        {
          "output_type": "stream",
          "name": "stdout",
          "text": [
            "Enter a positive integer: 6542468\n",
            "the number is  6542468 has 7  digit\n"
          ]
        }
      ]
    },
    {
      "cell_type": "code",
      "source": [
        "# QUESTION 12\n",
        "password = input(\"Enter your password: \")\n",
        "\n",
        "upper = 0\n",
        "lower = 0\n",
        "digit = 0\n",
        "for ch in password:\n",
        "    if ch.isupper():\n",
        "        upper += 1\n",
        "    elif ch.islower():\n",
        "        lower += 1\n",
        "    elif ch.isdigit():\n",
        "        digit += 1\n",
        "print(f\"Uppercase letters: {upper}\")\n",
        "print(f\"Lowercase letters: {lower}\")\n",
        "print(f\"Numbers: {digit}\")\n",
        "\n",
        "\n",
        "if len(password) >= 8 and upper > 0 and lower > 0 and digit > 0:\n",
        "    print(\"Your password is strong \")\n",
        "elif len(password) >= 6 and (upper > 0 or lower > 0) and digit > 0:\n",
        "    print(\"Your password is medium \")\n",
        "else:\n",
        "    print(\"Your password is weak \")\n"
      ],
      "metadata": {
        "colab": {
          "base_uri": "https://localhost:8080/"
        },
        "id": "B_skyTm7PGOd",
        "outputId": "f0a5917e-348b-460f-da9b-acefefdbaa09"
      },
      "execution_count": 10,
      "outputs": [
        {
          "output_type": "stream",
          "name": "stdout",
          "text": [
            "Enter your password: ManishaDevi123\n",
            "Uppercase letters: 2\n",
            "Lowercase letters: 9\n",
            "Numbers: 3\n",
            "Your password is strong \n"
          ]
        }
      ]
    },
    {
      "cell_type": "code",
      "source": [
        "# QUESTION 13\n",
        "a=int(input(\"number of items purchased:\"))\n",
        "print(\"*\" * a)"
      ],
      "metadata": {
        "colab": {
          "base_uri": "https://localhost:8080/"
        },
        "id": "D8s1pffcPL6H",
        "outputId": "cb8a6243-717f-4bde-86ba-e0f0b5d59b69"
      },
      "execution_count": 7,
      "outputs": [
        {
          "output_type": "stream",
          "name": "stdout",
          "text": [
            "number of items purchased:9\n",
            "*********\n"
          ]
        }
      ]
    },
    {
      "cell_type": "code",
      "source": [
        "# QUESTION 14\n",
        "sentence = input(\"Enter a sentence and :\")\n",
        "character = input(\"Enter a character\")\n",
        "\n",
        "count = 0\n",
        "for char in sentence:\n",
        "  if char == character:\n",
        "\n",
        "    count +=1\n",
        "\n",
        "print(f\"the character '{character}' appears {count} times in a sentence \")\n"
      ],
      "metadata": {
        "colab": {
          "base_uri": "https://localhost:8080/"
        },
        "id": "3N46JrB3PMuJ",
        "outputId": "e6e6590b-58e9-47e5-8d76-3c9dcc867870"
      },
      "execution_count": 12,
      "outputs": [
        {
          "output_type": "stream",
          "name": "stdout",
          "text": [
            "Enter a sentence and :manisha is beartifull girl\n",
            "Enter a charactere\n",
            "the character 'e' appears 1 times in a sentence \n"
          ]
        }
      ]
    },
    {
      "cell_type": "code",
      "source": [
        "print(\"Celsius\\tFahrenheit\")\n",
        "\n",
        "for celsius in range(0, 20, 5):\n",
        "    fahrenheit = (celsius * 9/5) + 32\n",
        "    print(f\"{celsius}°C = {fahrenheit:.1f}°F\")"
      ],
      "metadata": {
        "id": "HK82Fp3kQrq3"
      },
      "execution_count": null,
      "outputs": []
    },
    {
      "cell_type": "code",
      "source": [
        "# QUESTION 17\n",
        "balance = float(input(\"Enter your initial balance: \"))\n",
        "months = int(input(\"Enter the number of months: \"))\n",
        "\n",
        "print(\"\\nMonth\\tBalance\")\n",
        "print(\"----------------\")\n",
        "\n",
        "for month in range(1, months + 1):\n",
        "    balance += balance * 0.05\n",
        "    print(f\"{month}\\t{balance:.2f}\")\n"
      ],
      "metadata": {
        "id": "_ESMT3xLRPSW"
      },
      "execution_count": null,
      "outputs": []
    }
  ]
}